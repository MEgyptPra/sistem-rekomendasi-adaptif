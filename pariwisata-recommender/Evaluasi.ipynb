{
 "cells": [
  {
   "cell_type": "code",
   "execution_count": 1,
   "metadata": {
    "id": "Rc6Qgzi8B9Ej"
   },
   "outputs": [],
   "source": [
    "# # Laboratorium Evaluasi Sistem Rekomendasi Adaptif\n",
    "#\n",
    "# **Nama:** M Egypt Pratama\n",
    "#\n",
    "# **Tujuan Notebook:**\n",
    "# Notebook ini berfungsi sebagai lingkungan eksperimental untuk mengevaluasi kinerja sistem rekomendasi adaptif (MAB-MMR) yang diusulkan dalam tesis. Tujuannya adalah untuk membandingkan model yang diusulkan dengan dua model dasar (*baseline*) berdasarkan serangkaian metrik kuantitatif yang telah ditentukan, sesuai dengan protokol evaluasi di Bab III tesis."
   ]
  },
  {
   "cell_type": "code",
   "execution_count": 34,
   "metadata": {
    "colab": {
     "base_uri": "https://localhost:8080/",
     "height": 349
    },
    "id": "-z_qheQ3AvRC",
    "outputId": "c6323db3-acad-47af-d208-fb004b844a53"
   },
   "outputs": [
    {
     "name": "stdout",
     "output_type": "stream",
     "text": [
      "BAGIAN 1: PENGATURAN & PERSIAPAN LINGKUNGAN\n",
      "✅ Pustaka utama berhasil di-import.\n"
     ]
    }
   ],
   "source": [
    "# =============================================================================\n",
    "# BAGIAN 1: PENGATURAN & PERSIAPAN LINGKUNGAN\n",
    "# =============================================================================\n",
    "print(\"BAGIAN 1: PENGATURAN & PERSIAPAN LINGKUNGAN\")\n",
    "\n",
    "# Sel 1: Import Pustaka Utama\n",
    "import pandas as pd\n",
    "import numpy as np\n",
    "import matplotlib.pyplot as plt\n",
    "import seaborn as sns\n",
    "from tqdm.notebook import tqdm\n",
    "import sys\n",
    "import os\n",
    "import warnings\n",
    "\n",
    "warnings.filterwarnings('ignore')\n",
    "\n",
    "# Mengatur gaya plot agar terlihat profesional\n",
    "sns.set_theme(style=\"whitegrid\")\n",
    "print(\"✅ Pustaka utama berhasil di-import.\")"
   ]
  },
  {
   "cell_type": "code",
   "execution_count": 35,
   "metadata": {},
   "outputs": [
    {
     "name": "stdout",
     "output_type": "stream",
     "text": [
      "📍 CWD: C:\\Users\\ACER\\Documents\\GitHub\\sistem-rekomendasi-adaptif\\pariwisata-recommender\n",
      "✅ Database evaluasi ditemukan:\n",
      "   1. C:\\Users\\ACER\\Documents\\GitHub\\sistem-rekomendasi-adaptif\\pariwisata-recommender\\backend\\evaluation.db\n",
      "   2. C:\\Users\\ACER\\Documents\\GitHub\\sistem-rekomendasi-adaptif\\pariwisata-recommender\\evaluation.db\n",
      "👉 Menggunakan: C:\\Users\\ACER\\Documents\\GitHub\\sistem-rekomendasi-adaptif\\pariwisata-recommender\\backend\\evaluation.db\n"
     ]
    }
   ],
   "source": [
    "# Sel 2 (perbaikan): Temukan evaluation.db dan set path-nya\n",
    "import os\n",
    "from pathlib import Path\n",
    "\n",
    "print(f\"📍 CWD: {os.getcwd()}\")\n",
    "\n",
    "# Cari evaluation.db di seluruh repo\n",
    "candidates = list(Path(\".\").resolve().rglob(\"evaluation.db\"))\n",
    "if candidates:\n",
    "    # Prioritaskan yang ada di folder 'backend'\n",
    "    candidates_sorted = sorted(candidates, key=lambda p: (\"backend\" not in str(p).lower(), len(str(p))))\n",
    "    db_path = str(candidates_sorted[0])\n",
    "    print(\"✅ Database evaluasi ditemukan:\")\n",
    "    for i, p in enumerate(candidates_sorted[:5], 1):\n",
    "        print(f\"   {i}. {p}\")\n",
    "    print(f\"👉 Menggunakan: {db_path}\")\n",
    "else:\n",
    "    db_path = None\n",
    "    print(\"❌ Database evaluasi belum ditemukan di repo.\")\n",
    "    print(\"💡 Jalankan: cd pariwisata-recommender/backend && python migrate_to_sqlite.py\")\n",
    "\n",
    "# Simpan ke env var opsional\n",
    "if db_path:\n",
    "    os.environ[\"EVALUATION_DB_PATH\"] = db_path"
   ]
  },
  {
   "cell_type": "code",
   "execution_count": 40,
   "metadata": {},
   "outputs": [
    {
     "name": "stdout",
     "output_type": "stream",
     "text": [
      "🔗 Koneksi ke: C:\\Users\\ACER\\Documents\\GitHub\\sistem-rekomendasi-adaptif\\pariwisata-recommender\\backend\\evaluation.db\n",
      "✅ Data berhasil dimuat: 30 ratings, 10 destinations, 10 users\n"
     ]
    }
   ],
   "source": [
    "# Sel 3: Load data dari SQLite menggunakan db_path yang ditemukan\n",
    "import pandas as pd\n",
    "import sqlite3\n",
    "import os\n",
    "\n",
    "db_path = os.environ.get(\"EVALUATION_DB_PATH\", None)\n",
    "\n",
    "if not db_path or not os.path.exists(db_path):\n",
    "    # fallback umum kalau variabel env belum ada\n",
    "    possible_paths = [\n",
    "        \"../backend/evaluation.db\",\n",
    "        \"./backend/evaluation.db\",\n",
    "        \"evaluation.db\",\n",
    "    ]\n",
    "    for p in possible_paths:\n",
    "        if os.path.exists(p):\n",
    "            db_path = p\n",
    "            print(f\"ℹ️ Fallback menggunakan: {db_path}\")\n",
    "            break\n",
    "\n",
    "if not db_path or not os.path.exists(db_path):\n",
    "    raise FileNotFoundError(\"evaluation.db tidak ditemukan. Jalankan migrasi dahulu dan pastikan path benar.\")\n",
    "\n",
    "print(f\"🔗 Koneksi ke: {db_path}\")\n",
    "conn = sqlite3.connect(db_path)\n",
    "all_ratings_df = pd.read_sql(\"SELECT * FROM ratings\", conn)\n",
    "all_destinations_df = pd.read_sql(\"SELECT * FROM destinations\", conn)\n",
    "users_df = pd.read_sql(\"SELECT * FROM users\", conn)\n",
    "conn.close()\n",
    "\n",
    "print(f\"✅ Data berhasil dimuat: {len(all_ratings_df)} ratings, {len(all_destinations_df)} destinations, {len(users_df)} users\")"
   ]
  },
  {
   "cell_type": "code",
   "execution_count": 41,
   "metadata": {},
   "outputs": [
    {
     "name": "stdout",
     "output_type": "stream",
     "text": [
      "Memuat semua data rating untuk pembagian...\n",
      "Total ratings: 30, user unik: 10\n",
      "Ukuran data latih (train): 24\n",
      "Ukuran data uji (test): 6\n",
      "✅ Data siap untuk eksperimen dengan 5 pengguna uji.\n"
     ]
    }
   ],
   "source": [
    "from sklearn.model_selection import train_test_split\n",
    "\n",
    "print(\"Memuat semua data rating untuk pembagian...\")\n",
    "print(f\"Total ratings: {len(all_ratings_df)}, user unik: {all_ratings_df['user_id'].nunique()}\")\n",
    "\n",
    "# Split tanpa stratify jika data tipis\n",
    "train_df, test_df = train_test_split(\n",
    "    all_ratings_df,\n",
    "    test_size=0.2,\n",
    "    random_state=42,\n",
    "    stratify=None\n",
    ")\n",
    "\n",
    "print(f\"Ukuran data latih (train): {len(train_df)}\")\n",
    "print(f\"Ukuran data uji (test): {len(test_df)}\")\n",
    "\n",
    "test_user_items = test_df.groupby('user_id')['destination_id'].apply(list).to_dict()\n",
    "test_users = list(test_user_items.keys())\n",
    "\n",
    "print(f\"✅ Data siap untuk eksperimen dengan {len(test_users)} pengguna uji.\")"
   ]
  },
  {
   "cell_type": "code",
   "execution_count": 42,
   "metadata": {
    "id": "Doz-mOscBW7q"
   },
   "outputs": [
    {
     "name": "stdout",
     "output_type": "stream",
     "text": [
      "\n",
      "BAGIAN 3: IMPLEMENTASI MODEL PEMBANDING (BASELINE)\n",
      "Melatih Model Popularitas...\n",
      "✅ Model Popularitas siap.\n"
     ]
    },
    {
     "ename": "NameError",
     "evalue": "name 'ml_service' is not defined",
     "output_type": "error",
     "traceback": [
      "\u001b[1;31m---------------------------------------------------------------------------\u001b[0m",
      "\u001b[1;31mNameError\u001b[0m                                 Traceback (most recent call last)",
      "Cell \u001b[1;32mIn[42], line 39\u001b[0m\n\u001b[0;32m     36\u001b[0m pop_recommender \u001b[38;5;241m=\u001b[39m PopularityRecommender()\n\u001b[0;32m     37\u001b[0m pop_recommender\u001b[38;5;241m.\u001b[39mfit(train_df)\n\u001b[1;32m---> 39\u001b[0m cf_recommender \u001b[38;5;241m=\u001b[39m StandardCFRecommender(\u001b[43mml_service\u001b[49m)\n\u001b[0;32m     40\u001b[0m cf_recommender\u001b[38;5;241m.\u001b[39mfit(train_df)\n\u001b[0;32m     42\u001b[0m \u001b[38;5;66;03m# Untuk model adaptif kita, kita akan panggil langsung dari ml_service\u001b[39;00m\n",
      "\u001b[1;31mNameError\u001b[0m: name 'ml_service' is not defined"
     ]
    }
   ],
   "source": [
    "# =============================================================================\n",
    "# BAGIAN 3: IMPLEMENTASI MODEL PEMBANDING (BASELINE)\n",
    "# =============================================================================\n",
    "print(\"\\nBAGIAN 3: IMPLEMENTASI MODEL PEMBANDING (BASELINE)\")\n",
    "\n",
    "class PopularityRecommender:\n",
    "    def __init__(self):\n",
    "        self.top_n = None\n",
    "        self.name = \"Popularity\"\n",
    "\n",
    "    def fit(self, train_data):\n",
    "        print(\"Melatih Model Popularitas...\")\n",
    "        popularity_scores = train_data.groupby('destination_id').size().sort_values(ascending=False)\n",
    "        self.top_n = popularity_scores.index.tolist()\n",
    "        print(\"✅ Model Popularitas siap.\")\n",
    "\n",
    "    def predict(self, user_id, num_recommendations=10):\n",
    "        return self.top_n[:num_recommendations]\n",
    "\n",
    "class StandardCFRecommender:\n",
    "    def __init__(self, ml_service_instance):\n",
    "        self.recommender = ml_service_instance.collaborative_recommender\n",
    "        self.name = \"Collaborative Filtering\"\n",
    "\n",
    "    def fit(self, train_data):\n",
    "        # Model CF di MLService sudah dilatih dengan data penuh.\n",
    "        # Untuk eksperimen yang adil, idealnya kita melatih ulang hanya dengan train_data.\n",
    "        # Untuk saat ini, kita akan gunakan model yang sudah ada sebagai proxy.\n",
    "        print(\"✅ Model Collaborative Filtering (dari MLService) siap.\")\n",
    "\n",
    "    def predict(self, user_id, num_recommendations=10):\n",
    "        recs_df = self.recommender.predict(user_id, num_recommendations)\n",
    "        return recs_df['destination_id'].tolist()\n",
    "\n",
    "# Inisialisasi dan latih model baseline\n",
    "pop_recommender = PopularityRecommender()\n",
    "pop_recommender.fit(train_df)\n",
    "\n",
    "cf_recommender = StandardCFRecommender(ml_service)\n",
    "cf_recommender.fit(train_df)\n",
    "\n",
    "# Untuk model adaptif kita, kita akan panggil langsung dari ml_service\n",
    "adaptive_recommender = ml_service"
   ]
  },
  {
   "cell_type": "code",
   "execution_count": 2,
   "metadata": {
    "id": "6NBRBoVsBaxr"
   },
   "outputs": [],
   "source": [
    "# =============================================================================\n",
    "# BAGIAN 4: FUNGSI METRIK EVALUASI\n",
    "# =============================================================================\n",
    "print(\"\\nBAGIAN 4: FUNGSI METRIK EVALUASI\")\n",
    "\n",
    "def precision_at_k(recommended_items, actual_items, k):\n",
    "    if not recommended_items: return 0.0\n",
    "    actual_set = set(actual_items)\n",
    "    recommended_k = recommended_items[:k]\n",
    "    hits = len(set(recommended_k).intersection(actual_set))\n",
    "    return hits / k\n",
    "\n",
    "def recall_at_k(recommended_items, actual_items, k):\n",
    "    if not recommended_items or not actual_items: return 0.0\n",
    "    actual_set = set(actual_items)\n",
    "    recommended_k = recommended_items[:k]\n",
    "    hits = len(set(recommended_k).intersection(actual_set))\n",
    "    return hits / len(actual_set)\n",
    "\n",
    "def ndcg_at_k(recommended_items, actual_items, k):\n",
    "    if not recommended_items: return 0.0\n",
    "    actual_set = set(actual_items)\n",
    "    dcg = 0.0\n",
    "    for i, item in enumerate(recommended_items[:k]):\n",
    "        if item in actual_set:\n",
    "            dcg += 1.0 / np.log2(i + 2)\n",
    "\n",
    "    idcg = sum(1.0 / np.log2(i + 2) for i in range(min(len(actual_set), k)))\n",
    "    return dcg / idcg if idcg > 0 else 0.0\n",
    "\n",
    "def intra_list_diversity(recommended_items, similarity_matrix):\n",
    "    if len(recommended_items) < 2: return 0.0\n",
    "    total_dissimilarity = 0\n",
    "    pair_count = 0\n",
    "    for i in range(len(recommended_items)):\n",
    "        for j in range(i + 1, len(recommended_items)):\n",
    "            id1, id2 = recommended_items[i], recommended_items[j]\n",
    "            try:\n",
    "                similarity = similarity_matrix.loc[id1, id2]\n",
    "                total_dissimilarity += (1 - similarity)\n",
    "                pair_count += 1\n",
    "            except KeyError:\n",
    "                continue\n",
    "    return total_dissimilarity / pair_count if pair_count > 0 else 0.0\n",
    "\n",
    "def catalog_coverage(all_recommendations_lists, all_item_ids):\n",
    "    recommended_items_set = set()\n",
    "    for rec_list in all_recommendations_lists:\n",
    "        recommended_items_set.update(rec_list)\n",
    "    return len(recommended_items_set) / len(all_item_ids)\n",
    "\n",
    "def novelty(recommended_items, popularity_scores):\n",
    "    if not recommended_items: return 0.0\n",
    "    total_novelty = 0\n",
    "    max_pop = popularity_scores.max()\n",
    "    for item in recommended_items:\n",
    "        # Self-information: -log2(p(i))\n",
    "        # p(i) adalah probabilitas item, diaproksimasi dengan skor popularitas ternormalisasi\n",
    "        item_pop = popularity_scores.get(item, 1) # Default 1 jika tidak ada\n",
    "        prob = item_pop / max_pop if max_pop > 0 else 0\n",
    "        total_novelty += -np.log2(prob + 1e-9) # Tambah epsilon untuk hindari log(0)\n",
    "    return total_novelty / len(recommended_items)\n",
    "\n",
    "print(\"✅ Semua fungsi metrik telah didefinisikan.\")\n"
   ]
  },
  {
   "cell_type": "code",
   "execution_count": null,
   "metadata": {
    "id": "9vUwwKfgBoC2"
   },
   "outputs": [],
   "source": [
    "# =============================================================================\n",
    "# BAGIAN 5: PELAKSANAAN EKSPERIMEN\n",
    "# =============================================================================\n",
    "print(\"\\nBAGIAN 5: PELAKSANAAN EKSPERIMEN\")\n",
    "k = 10\n",
    "results = {}\n",
    "models = {\n",
    "    \"Adaptive (MAB-MMR)\": adaptive_recommender,\n",
    "    \"Collaborative Filtering\": cf_recommender,\n",
    "    \"Popularity\": pop_recommender\n",
    "}\n",
    "\n",
    "# Siapkan data ground truth: destinasi yang benar-benar disukai pengguna di data uji\n",
    "ground_truth = test_df[test_df['rating'] >= 4].groupby('user_id')['destination_id'].apply(list).to_dict()\n",
    "similarity_matrix = ml_service.hybrid_recommender.similarity_matrix\n",
    "popularity_scores = train_df['destination_id'].value_counts()\n",
    "\n",
    "\n",
    "for model_name, model in models.items():\n",
    "    print(f\"⏳ Mengevaluasi model: {model_name}...\")\n",
    "    all_recs_for_model = []\n",
    "    metrics = {\n",
    "        'precision': [], 'recall': [], 'ndcg': [],\n",
    "        'diversity': [], 'novelty': []\n",
    "    }\n",
    "\n",
    "    # Kita hanya uji pada sebagian kecil pengguna agar tidak terlalu lama\n",
    "    users_to_test = test_users[:50]\n",
    "\n",
    "    for user_id in tqdm(users_to_test, desc=f\"Pengguna ({model_name})\"):\n",
    "        if model_name == \"Adaptive (MAB-MMR)\":\n",
    "            recs_df, _, _ = model.get_recommendations(user_id, num_recommendations=k)\n",
    "            recommended_ids = recs_df['destination_id'].tolist()\n",
    "        else:\n",
    "            recommended_ids = model.predict(user_id, num_recommendations=k)\n",
    "\n",
    "        all_recs_for_model.append(recommended_ids)\n",
    "        actual_items = ground_truth.get(user_id, [])\n",
    "\n",
    "        # Hitung metrik per pengguna\n",
    "        metrics['precision'].append(precision_at_k(recommended_ids, actual_items, k))\n",
    "        metrics['recall'].append(recall_at_k(recommended_ids, actual_items, k))\n",
    "        metrics['ndcg'].append(ndcg_at_k(recommended_ids, actual_items, k))\n",
    "        metrics['diversity'].append(intra_list_diversity(recommended_ids, similarity_matrix))\n",
    "        metrics['novelty'].append(novelty(recommended_ids, popularity_scores))\n",
    "\n",
    "    # Hitung rata-rata metrik dan coverage\n",
    "    avg_metrics = {key: np.mean(val) for key, val in metrics.items()}\n",
    "    avg_metrics['coverage'] = catalog_coverage(all_recs_for_model, all_item_ids)\n",
    "    results[model_name] = avg_metrics\n",
    "\n",
    "print(\"\\n✅ Eksperimen selesai.\")"
   ]
  },
  {
   "cell_type": "code",
   "execution_count": 2,
   "metadata": {
    "colab": {
     "base_uri": "https://localhost:8080/",
     "height": 245
    },
    "id": "jxeI2Uc_BXfT",
    "outputId": "83586cc0-6e99-4df1-fafb-bef042d28521"
   },
   "outputs": [
    {
     "name": "stdout",
     "output_type": "stream",
     "text": [
      "\n",
      "BAGIAN 6: ANALISIS DAN VISUALISASI HASIL\n"
     ]
    },
    {
     "ename": "NameError",
     "evalue": "name 'results' is not defined",
     "output_type": "error",
     "traceback": [
      "\u001b[0;31m---------------------------------------------------------------------------\u001b[0m",
      "\u001b[0;31mNameError\u001b[0m                                 Traceback (most recent call last)",
      "\u001b[0;32m/tmp/ipython-input-2175930932.py\u001b[0m in \u001b[0;36m<cell line: 0>\u001b[0;34m()\u001b[0m\n\u001b[1;32m      6\u001b[0m \u001b[0;34m\u001b[0m\u001b[0m\n\u001b[1;32m      7\u001b[0m \u001b[0;31m# Buat DataFrame dari hasil\u001b[0m\u001b[0;34m\u001b[0m\u001b[0;34m\u001b[0m\u001b[0m\n\u001b[0;32m----> 8\u001b[0;31m results_df = pd.DataFrame(results).T.rename(columns={\n\u001b[0m\u001b[1;32m      9\u001b[0m     \u001b[0;34m'precision'\u001b[0m\u001b[0;34m:\u001b[0m \u001b[0;34mf'Precision@{k}'\u001b[0m\u001b[0;34m,\u001b[0m\u001b[0;34m\u001b[0m\u001b[0;34m\u001b[0m\u001b[0m\n\u001b[1;32m     10\u001b[0m     \u001b[0;34m'recall'\u001b[0m\u001b[0;34m:\u001b[0m \u001b[0;34mf'Recall@{k}'\u001b[0m\u001b[0;34m,\u001b[0m\u001b[0;34m\u001b[0m\u001b[0;34m\u001b[0m\u001b[0m\n",
      "\u001b[0;31mNameError\u001b[0m: name 'results' is not defined"
     ]
    }
   ],
   "source": [
    "# =============================================================================\n",
    "# BAGIAN 6: ANALISIS DAN VISUALISASI HASIL\n",
    "# =============================================================================\n",
    "print(\"\\nBAGIAN 6: ANALISIS DAN VISUALISASI HASIL\")\n",
    "\n",
    "# Buat DataFrame dari hasil\n",
    "results_df = pd.DataFrame(results).T.rename(columns={\n",
    "    'precision': f'Precision@{k}',\n",
    "    'recall': f'Recall@{k}',\n",
    "    'ndcg': f'NDCG@{k}',\n",
    "    'diversity': 'Diversity',\n",
    "    'novelty': 'Novelty',\n",
    "    'coverage': 'Coverage'\n",
    "})\n",
    "\n",
    "print(\"\\n--- Tabel Hasil Akhir Metrik Kuantitatif ---\")\n",
    "display(results_df)\n",
    "\n",
    "# Visualisasi Hasil\n",
    "fig, axes = plt.subplots(2, 3, figsize=(18, 10))\n",
    "fig.suptitle('Perbandingan Kinerja Model Rekomendasi', fontsize=20, y=1.02)\n",
    "axes = axes.flatten()\n",
    "\n",
    "for i, col in enumerate(results_df.columns):\n",
    "    sns.barplot(x=results_df.index, y=results_df[col], ax=axes[i])\n",
    "    axes[i].set_title(col, fontsize=14)\n",
    "    axes[i].set_xlabel(\"\")\n",
    "    axes[i].set_ylabel(\"Skor\")\n",
    "    axes[i].tick_params(axis='x', rotation=15)\n",
    "    # Tambahkan label angka di atas bar\n",
    "    for p in axes[i].patches:\n",
    "        axes[i].annotate(f\"{p.get_height():.3f}\",\n",
    "                       (p.get_x() + p.get_width() / 2., p.get_height()),\n",
    "                       ha = 'center', va = 'center',\n",
    "                       xytext = (0, 9),\n",
    "                       textcoords = 'offset points')\n",
    "\n",
    "plt.tight_layout()\n",
    "plt.show()"
   ]
  }
 ],
 "metadata": {
  "colab": {
   "provenance": []
  },
  "kernelspec": {
   "display_name": "Python 3 (ipykernel)",
   "language": "python",
   "name": "python3"
  },
  "language_info": {
   "codemirror_mode": {
    "name": "ipython",
    "version": 3
   },
   "file_extension": ".py",
   "mimetype": "text/x-python",
   "name": "python",
   "nbconvert_exporter": "python",
   "pygments_lexer": "ipython3",
   "version": "3.9.20"
  }
 },
 "nbformat": 4,
 "nbformat_minor": 4
}
